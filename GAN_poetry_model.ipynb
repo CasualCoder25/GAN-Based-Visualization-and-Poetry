{
 "cells": [
  {
   "cell_type": "code",
   "execution_count": 1,
   "metadata": {},
   "outputs": [],
   "source": [
    "# python.exe -m pip install --upgrade pip\n",
    "# pip install ipykernel\n",
    "# pip install jupyter\n",
    "# python -m pip install bitsandbytes --prefer-binary --extra-index-url=https://jllllll.github.io/bitsandbytes-windows-webui\n",
    "# pip install langchain einops accelerate transformers scipy xformers==0.0.20\n",
    "# pip install torch==2.0.1+cu117 torchvision==0.15.2+cu117 -f https://download.pytorch.org/whl/torch_stable.html\n",
    "# pip install sentencepiece sentence_transformers\n",
    "# pip install llama-index\n",
    "# pip install llama-hub\n",
    "# pip install invisible_watermark safetensors\n",
    "# pip install diffusers"
   ]
  },
  {
   "cell_type": "code",
   "execution_count": 1,
   "metadata": {},
   "outputs": [],
   "source": [
    "# Import tranformer classes\n",
    "from transformers import AutoTokenizer, AutoModelForCausalLM, TextStreamer\n",
    "from transformers import BitsAndBytesConfig\n",
    "# Import torch\n",
    "import torch"
   ]
  },
  {
   "cell_type": "code",
   "execution_count": 2,
   "metadata": {},
   "outputs": [
    {
     "data": {
      "text/plain": [
       "True"
      ]
     },
     "execution_count": 2,
     "metadata": {},
     "output_type": "execute_result"
    }
   ],
   "source": [
    "torch.cuda.is_available()"
   ]
  },
  {
   "cell_type": "code",
   "execution_count": 3,
   "metadata": {},
   "outputs": [],
   "source": [
    "# model name\n",
    "name = \"meta-llama/Llama-2-7b-chat-hf\"\n",
    "# name = \"togethercomputer/LLaMA-2-7B-32K\"\n",
    "# Set auth variable from hugging face\n",
    "auth_token = \"\""
   ]
  },
  {
   "cell_type": "code",
   "execution_count": 4,
   "metadata": {},
   "outputs": [
    {
     "name": "stderr",
     "output_type": "stream",
     "text": [
      "c:\\Users\\Sagar\\Python files_Jupiter\\Git Repo Local\\GAN Poetry\\project\\Lib\\site-packages\\transformers\\models\\auto\\tokenization_auto.py:655: FutureWarning: The `use_auth_token` argument is deprecated and will be removed in v5 of Transformers.\n",
      "  warnings.warn(\n"
     ]
    }
   ],
   "source": [
    "# Create tokenizer\n",
    "tokenizer = AutoTokenizer.from_pretrained(\n",
    "    name,\n",
    "    cache_dir=\"./model/\",\n",
    "    use_auth_token=auth_token,\n",
    ")"
   ]
  },
  {
   "cell_type": "code",
   "execution_count": 5,
   "metadata": {},
   "outputs": [],
   "source": [
    "# Create quantization config\n",
    "quantization_config = BitsAndBytesConfig(\n",
    "    load_in_4bit=True,\n",
    "    bnb_4bit_compute_dtype=torch.bfloat16,\n",
    "    bnb_4bit_quant_type=\"nf4\",\n",
    ")"
   ]
  },
  {
   "cell_type": "code",
   "execution_count": 6,
   "metadata": {},
   "outputs": [
    {
     "name": "stderr",
     "output_type": "stream",
     "text": [
      "c:\\Users\\Sagar\\Python files_Jupiter\\Git Repo Local\\GAN Poetry\\project\\Lib\\site-packages\\transformers\\models\\auto\\auto_factory.py:472: FutureWarning: The `use_auth_token` argument is deprecated and will be removed in v5 of Transformers.\n",
      "  warnings.warn(\n"
     ]
    },
    {
     "name": "stdout",
     "output_type": "stream",
     "text": [
      "bin c:\\Users\\Sagar\\Python files_Jupiter\\Git Repo Local\\GAN Poetry\\project\\Lib\\site-packages\\bitsandbytes\\libbitsandbytes_cuda117.dll\n"
     ]
    },
    {
     "data": {
      "application/vnd.jupyter.widget-view+json": {
       "model_id": "e082a04cc49d40b4b1fee92a381f404c",
       "version_major": 2,
       "version_minor": 0
      },
      "text/plain": [
       "Loading checkpoint shards:   0%|          | 0/2 [00:00<?, ?it/s]"
      ]
     },
     "metadata": {},
     "output_type": "display_data"
    },
    {
     "name": "stderr",
     "output_type": "stream",
     "text": [
      "c:\\Users\\Sagar\\Python files_Jupiter\\Git Repo Local\\GAN Poetry\\project\\Lib\\site-packages\\transformers\\utils\\hub.py:374: FutureWarning: The `use_auth_token` argument is deprecated and will be removed in v5 of Transformers.\n",
      "  warnings.warn(\n"
     ]
    }
   ],
   "source": [
    "# Create model\n",
    "model = AutoModelForCausalLM.from_pretrained(\n",
    "    name,\n",
    "    cache_dir=\"./model/\",\n",
    "    use_auth_token=auth_token,\n",
    "    rope_scaling={\"type\":\"dynamic\",\"factor\":2},\n",
    "    load_in_4bit=True,\n",
    "    quantization_config=quantization_config,\n",
    ")"
   ]
  },
  {
   "cell_type": "code",
   "execution_count": 7,
   "metadata": {},
   "outputs": [],
   "source": [
    "# Setup prompt\n",
    "prompt = \"### User:Generate a poem on nature. ### Assistant:\"\n",
    "# Pass the prompt to the tokenizer\n",
    "inputs = tokenizer(prompt, return_tensors=\"pt\").to(model.device)\n",
    "# Setup text streamer\n",
    "streamer = TextStreamer(tokenizer, skip_prompt=True, skip_special_token=True)"
   ]
  },
  {
   "cell_type": "code",
   "execution_count": 8,
   "metadata": {},
   "outputs": [
    {
     "name": "stdout",
     "output_type": "stream",
     "text": [
      "Sure! Here is a poem about nature:\n",
      "\n",
      "In the grand expanse of earth and sky,\n",
      "A world of wonder, full of life and might.\n",
      "From mountains high to valleys low,\n",
      "The beauty of nature, we are told.\n",
      "\n",
      "The trees stand tall, their leaves a-glow,\n",
      "A canopy of green, where birds do flow.\n",
      "The rivers run, with waters clear,\n",
      "A pathway to the sea, so pure and dear.\n",
      "\n",
      "The wind it blows, with gentle grace,\n",
      "And whispers secrets, in a lover's place.\n",
      "The sun it shines, with radiant light,\n",
      "Bringing life to all, with its beaming sight.\n",
      "\n",
      "The flowers bloom, in every hue,\n",
      "A kaleidoscope of color, pure and true.\n",
      "The bees they buzz, with busy cheer,\n",
      "Collecting nectar, without a fear.\n",
      "\n",
      "In nature's embrace, we find our peace,\n",
      "A sense of calm, a world to cease.\n",
      "From the hustle and bustle of the day,\n",
      "We find solace, in nature's sway.\n",
      "\n",
      "So let us cherish, this world so grand,\n",
      "And do our part, to preserve its land.\n",
      "For in nature's beauty, we find our home,\n",
      "And a world of wonder, forever known.</s>\n"
     ]
    }
   ],
   "source": [
    "# Actually run the thing\n",
    "output = model.generate(inputs[\"input_ids\"], streamer=streamer, use_cache=True, max_new_tokens=float(\"inf\"))"
   ]
  },
  {
   "cell_type": "code",
   "execution_count": 9,
   "metadata": {},
   "outputs": [],
   "source": [
    "# Convert the output tokens back to text\n",
    "output_text = tokenizer.decode(output[0], skip_special_tokens=True)"
   ]
  },
  {
   "cell_type": "code",
   "execution_count": 10,
   "metadata": {},
   "outputs": [
    {
     "name": "stdout",
     "output_type": "stream",
     "text": [
      "### User:Generate a poem on nature. ### Assistant: Sure! Here is a poem about nature:\n",
      "\n",
      "In the grand expanse of earth and sky,\n",
      "A world of wonder, full of life and might.\n",
      "From mountains high to valleys low,\n",
      "The beauty of nature, we are told.\n",
      "\n",
      "The trees stand tall, their leaves a-glow,\n",
      "A canopy of green, where birds do flow.\n",
      "The rivers run, with waters clear,\n",
      "A pathway to the sea, so pure and dear.\n",
      "\n",
      "The wind it blows, with gentle grace,\n",
      "And whispers secrets, in a lover's place.\n",
      "The sun it shines, with radiant light,\n",
      "Bringing life to all, with its beaming sight.\n",
      "\n",
      "The flowers bloom, in every hue,\n",
      "A kaleidoscope of color, pure and true.\n",
      "The bees they buzz, with busy cheer,\n",
      "Collecting nectar, without a fear.\n",
      "\n",
      "In nature's embrace, we find our peace,\n",
      "A sense of calm, a world to cease.\n",
      "From the hustle and bustle of the day,\n",
      "We find solace, in nature's sway.\n",
      "\n",
      "So let us cherish, this world so grand,\n",
      "And do our part, to preserve its land.\n",
      "For in nature's beauty, we find our home,\n",
      "And a world of wonder, forever known.\n"
     ]
    }
   ],
   "source": [
    "print(output_text)"
   ]
  },
  {
   "cell_type": "code",
   "execution_count": 15,
   "metadata": {},
   "outputs": [],
   "source": [
    "from langchain.llms import HuggingFacePipeline\n",
    "from langchain import PromptTemplate, LLMChain\n",
    "from transformers import pipeline"
   ]
  },
  {
   "cell_type": "code",
   "execution_count": 20,
   "metadata": {},
   "outputs": [],
   "source": [
    "# Create llm pipeline\n",
    "pipe = pipeline(\"text-generation\",model=model,tokenizer=tokenizer,max_new_tokens=1024)\n",
    "llm = HuggingFacePipeline(pipeline=pipe)"
   ]
  },
  {
   "cell_type": "code",
   "execution_count": 26,
   "metadata": {},
   "outputs": [],
   "source": [
    "# Create prompt template\n",
    "prompt = PromptTemplate(\n",
    "    input_variables=[\"question\"],\n",
    "    template=\"\"\"<s>[INST] <<SYS>>\n",
    "You are a helpful, respectful and honest assistant. Always answer as \n",
    "helpfully as possible, while being safe. Your answers should not include\n",
    "any harmful, unethical, racist, sexist, toxic, dangerous, or illegal content.\n",
    "Please ensure that your responses are socially unbiased and positive in nature. \n",
    "\n",
    "Your goal is to only compose poems and reply in poetic speech. Don't reply if the request is not relate to composing a poem.<</SYS>>\n",
    "\n",
    "HUMAN: {question}\n",
    "\n",
    "ASSISTANT:[/INST]\"\"\")"
   ]
  },
  {
   "cell_type": "code",
   "execution_count": 27,
   "metadata": {},
   "outputs": [],
   "source": [
    "# LLMChain\n",
    "chain = LLMChain(prompt=prompt,llm=llm)"
   ]
  },
  {
   "cell_type": "code",
   "execution_count": 28,
   "metadata": {},
   "outputs": [],
   "source": [
    "response = chain.run(\"Write a poem on nature.\")"
   ]
  },
  {
   "cell_type": "code",
   "execution_count": 29,
   "metadata": {},
   "outputs": [
    {
     "name": "stdout",
     "output_type": "stream",
     "text": [
      "  Of course, I'd be delighted to assist you in crafting a poem on nature. Here's a piece of verse that I hope you'll find pleasing:\n",
      "\n",
      "Nature's beauty, oh so grand,\n",
      "A symphony of sights, sounds, and scents.\n",
      "From mountains tall and valleys deep,\n",
      "To oceans vast and skies so high,\n",
      "She weaves a tapestry of life,\n",
      "A kaleidoscope of wonder and delight.\n",
      "\n",
      "Trees stand tall, their leaves a-glow,\n",
      "A canopy of green above,\n",
      "A haven for birds to sing and fly,\n",
      "A home for creatures to thrive and grow.\n",
      "\n",
      "Rivers flow, their currents strong,\n",
      "A path for life to move along,\n",
      "A source of life and vitality,\n",
      "A symbol of resilience and grit.\n",
      "\n",
      "Seas and oceans, vast and wide,\n",
      "A world of wonder, a world to hide,\n",
      "A place where creatures roam and play,\n",
      "A home for life in every way.\n",
      "\n",
      "The wind it blows, the sun it shines,\n",
      "A balm for nature's gentle lines,\n",
      "A reminder of life's grace and might,\n",
      "A testament to nature's beauty bright.\n",
      "\n",
      "I hope this poem captures some of the beauty and wonder of nature. Please let me know if there's anything else I can assist you with.\n"
     ]
    }
   ],
   "source": [
    "print(response)"
   ]
  },
  {
   "cell_type": "code",
   "execution_count": null,
   "metadata": {},
   "outputs": [],
   "source": []
  }
 ],
 "metadata": {
  "kernelspec": {
   "display_name": "py39",
   "language": "python",
   "name": "python3"
  },
  "language_info": {
   "codemirror_mode": {
    "name": "ipython",
    "version": 3
   },
   "file_extension": ".py",
   "mimetype": "text/x-python",
   "name": "python",
   "nbconvert_exporter": "python",
   "pygments_lexer": "ipython3",
   "version": "3.12.1"
  }
 },
 "nbformat": 4,
 "nbformat_minor": 2
}
