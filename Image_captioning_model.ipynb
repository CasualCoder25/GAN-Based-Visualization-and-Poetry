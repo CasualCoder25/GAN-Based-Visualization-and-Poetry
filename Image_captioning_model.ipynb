{
 "cells": [
  {
   "cell_type": "code",
   "execution_count": 1,
   "metadata": {},
   "outputs": [],
   "source": [
    "# Import dependencies\n",
    "import torch\n",
    "from transformers import BlipProcessor, BlipForConditionalGeneration\n",
    "from transformers import BitsAndBytesConfig\n",
    "from PIL import Image"
   ]
  },
  {
   "cell_type": "code",
   "execution_count": 2,
   "metadata": {},
   "outputs": [],
   "source": [
    "# Image Captioning model name\n",
    "model_image = \"Salesforce/blip-image-captioning-large\""
   ]
  },
  {
   "cell_type": "code",
   "execution_count": 3,
   "metadata": {},
   "outputs": [],
   "source": [
    "# Create quantization config\n",
    "quantization_config = BitsAndBytesConfig(\n",
    "    load_in_4bit=True,\n",
    "    bnb_4bit_compute_dtype=torch.bfloat16,\n",
    "    bnb_4bit_quant_type=\"nf4\",\n",
    ")"
   ]
  },
  {
   "cell_type": "code",
   "execution_count": 4,
   "metadata": {},
   "outputs": [],
   "source": [
    "# Import the image feature extractor\n",
    "feature_extractor = BlipProcessor.from_pretrained(\n",
    "    model_image,\n",
    "    cache_dir=\"./model/\",\n",
    "    load_in_4bit=True,\n",
    "    quantization_config=quantization_config,\n",
    ")"
   ]
  },
  {
   "cell_type": "code",
   "execution_count": 5,
   "metadata": {},
   "outputs": [
    {
     "name": "stdout",
     "output_type": "stream",
     "text": [
      "bin c:\\Users\\Sagar\\Python files_Jupiter\\Git Repo Local\\GAN Poetry\\project\\Lib\\site-packages\\bitsandbytes\\libbitsandbytes_cuda117.dll\n"
     ]
    }
   ],
   "source": [
    "# Import the model for image captioning\n",
    "model = BlipForConditionalGeneration.from_pretrained(\n",
    "    model_image,\n",
    "    cache_dir=\"./model/\",\n",
    "    torch_dtype=torch.float16, \n",
    "    load_in_4bit=True,\n",
    "    quantization_config=quantization_config,\n",
    ")"
   ]
  },
  {
   "cell_type": "code",
   "execution_count": 6,
   "metadata": {},
   "outputs": [],
   "source": [
    "# Load the image\n",
    "image = Image.open(r\"C:\\Users\\Sagar\\Python files_Jupiter\\Git Repo Local\\GAN Poetry\\Abstract_art.jpg\")\n",
    "# Text prompt\n",
    "text = \"\""
   ]
  },
  {
   "cell_type": "code",
   "execution_count": 7,
   "metadata": {},
   "outputs": [],
   "source": [
    "# Generate response\n",
    "inputs = feature_extractor(image,text,return_tensors=\"pt\").to(model.device)\n",
    "image_caption = model.generate(**inputs,max_new_tokens=20)\n",
    "image_caption_text = feature_extractor.decode(image_caption[0],skip_special_tokens=True)"
   ]
  },
  {
   "cell_type": "code",
   "execution_count": 8,
   "metadata": {},
   "outputs": [
    {
     "name": "stdout",
     "output_type": "stream",
     "text": [
      "painting of a group of people walking down a street with umbrellas\n"
     ]
    }
   ],
   "source": [
    "print(image_caption_text)"
   ]
  },
  {
   "cell_type": "code",
   "execution_count": null,
   "metadata": {},
   "outputs": [],
   "source": []
  }
 ],
 "metadata": {
  "kernelspec": {
   "display_name": "project",
   "language": "python",
   "name": "python3"
  },
  "language_info": {
   "codemirror_mode": {
    "name": "ipython",
    "version": 3
   },
   "file_extension": ".py",
   "mimetype": "text/x-python",
   "name": "python",
   "nbconvert_exporter": "python",
   "pygments_lexer": "ipython3",
   "version": "3.11.4"
  }
 },
 "nbformat": 4,
 "nbformat_minor": 2
}
